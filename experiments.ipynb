{
 "cells": [
  {
   "cell_type": "code",
   "execution_count": 17,
   "metadata": {
    "collapsed": true,
    "ExecuteTime": {
     "end_time": "2023-05-11T14:50:03.002216Z",
     "start_time": "2023-05-11T14:50:02.998121Z"
    }
   },
   "outputs": [],
   "source": [
    "import numpy as np\n",
    "from scipy import stats\n",
    "from ab_testing import ABTesting"
   ]
  },
  {
   "cell_type": "code",
   "execution_count": 11,
   "outputs": [
    {
     "data": {
      "text/plain": "2.9166666666666665"
     },
     "execution_count": 11,
     "metadata": {},
     "output_type": "execute_result"
    }
   ],
   "source": [
    "(np.std([1, 2, 3, 4, 5, 6])) ** 2"
   ],
   "metadata": {
    "collapsed": false,
    "ExecuteTime": {
     "end_time": "2023-05-11T14:36:28.131027Z",
     "start_time": "2023-05-11T14:36:28.127674Z"
    }
   }
  },
  {
   "cell_type": "code",
   "execution_count": 12,
   "outputs": [],
   "source": [
    "tests = ABTesting()"
   ],
   "metadata": {
    "collapsed": false,
    "ExecuteTime": {
     "end_time": "2023-05-11T14:36:28.306486Z",
     "start_time": "2023-05-11T14:36:28.302399Z"
    }
   }
  },
  {
   "cell_type": "code",
   "execution_count": 63,
   "outputs": [],
   "source": [
    "pvalues = []\n",
    "for _ in range(1000):\n",
    "    a = stats.expon(0, 1).rvs(1000)\n",
    "    b = stats.expon(0, 1).rvs(1000)\n",
    "    pvalues.append(tests.t_test(a, b))"
   ],
   "metadata": {
    "collapsed": false,
    "ExecuteTime": {
     "end_time": "2023-05-12T12:05:10.825912Z",
     "start_time": "2023-05-12T12:05:10.090960Z"
    }
   }
  },
  {
   "cell_type": "code",
   "execution_count": 64,
   "outputs": [
    {
     "name": "stdout",
     "output_type": "stream",
     "text": [
      "0.047\n"
     ]
    }
   ],
   "source": [
    "cnt = 0\n",
    "for value in pvalues:\n",
    "    if value < 0.05:\n",
    "        cnt += 1\n",
    "print(cnt/ 1000)"
   ],
   "metadata": {
    "collapsed": false,
    "ExecuteTime": {
     "end_time": "2023-05-12T12:05:10.829094Z",
     "start_time": "2023-05-12T12:05:10.826692Z"
    }
   }
  },
  {
   "cell_type": "code",
   "execution_count": null,
   "outputs": [],
   "source": [],
   "metadata": {
    "collapsed": false
   }
  }
 ],
 "metadata": {
  "kernelspec": {
   "name": "ab_testing",
   "language": "python",
   "display_name": "ab_testing"
  },
  "language_info": {
   "codemirror_mode": {
    "name": "ipython",
    "version": 2
   },
   "file_extension": ".py",
   "mimetype": "text/x-python",
   "name": "python",
   "nbconvert_exporter": "python",
   "pygments_lexer": "ipython2",
   "version": "2.7.6"
  }
 },
 "nbformat": 4,
 "nbformat_minor": 0
}
