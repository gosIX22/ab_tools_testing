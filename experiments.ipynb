{
 "cells": [
  {
   "cell_type": "code",
   "execution_count": 1,
   "metadata": {
    "collapsed": true,
    "ExecuteTime": {
     "end_time": "2023-05-13T14:14:31.830005Z",
     "start_time": "2023-05-13T14:14:31.216632Z"
    }
   },
   "outputs": [],
   "source": [
    "import numpy as np\n",
    "from scipy import stats\n",
    "from ab_testing import ABTesting\n",
    "from ab_testing import aa_test"
   ]
  },
  {
   "cell_type": "code",
   "execution_count": 2,
   "outputs": [],
   "source": [
    "tests = ABTesting()"
   ],
   "metadata": {
    "collapsed": false,
    "ExecuteTime": {
     "end_time": "2023-05-13T14:14:31.832591Z",
     "start_time": "2023-05-13T14:14:31.831317Z"
    }
   }
  },
  {
   "cell_type": "code",
   "execution_count": 3,
   "outputs": [],
   "source": [
    "pvalues = []\n",
    "for _ in range(1000):\n",
    "    a = stats.expon(0, 1).rvs(1000)\n",
    "    b = stats.expon(0, 1).rvs(1000)\n",
    "    pvalues.append(tests.t_test(a, b))"
   ],
   "metadata": {
    "collapsed": false,
    "ExecuteTime": {
     "end_time": "2023-05-13T14:14:32.542652Z",
     "start_time": "2023-05-13T14:14:31.834777Z"
    }
   }
  },
  {
   "cell_type": "code",
   "execution_count": 4,
   "outputs": [
    {
     "name": "stdout",
     "output_type": "stream",
     "text": [
      "0.05\n"
     ]
    }
   ],
   "source": [
    "cnt = 0\n",
    "for value in pvalues:\n",
    "    if value < 0.05:\n",
    "        cnt += 1\n",
    "print(cnt/ 1000)"
   ],
   "metadata": {
    "collapsed": false,
    "ExecuteTime": {
     "end_time": "2023-05-13T14:14:32.545373Z",
     "start_time": "2023-05-13T14:14:32.543379Z"
    }
   }
  },
  {
   "cell_type": "code",
   "execution_count": 5,
   "outputs": [
    {
     "data": {
      "text/plain": "MannwhitneyuResult(statistic=498765.0, pvalue=0.9238382161257249)"
     },
     "execution_count": 5,
     "metadata": {},
     "output_type": "execute_result"
    }
   ],
   "source": [
    "stats.mannwhitneyu(a, b, alternative='two-sided')"
   ],
   "metadata": {
    "collapsed": false,
    "ExecuteTime": {
     "end_time": "2023-05-13T14:14:32.552758Z",
     "start_time": "2023-05-13T14:14:32.547178Z"
    }
   }
  }
 ],
 "metadata": {
  "kernelspec": {
   "name": "ab_testing",
   "language": "python",
   "display_name": "ab_testing"
  },
  "language_info": {
   "codemirror_mode": {
    "name": "ipython",
    "version": 2
   },
   "file_extension": ".py",
   "mimetype": "text/x-python",
   "name": "python",
   "nbconvert_exporter": "python",
   "pygments_lexer": "ipython2",
   "version": "2.7.6"
  }
 },
 "nbformat": 4,
 "nbformat_minor": 0
}
